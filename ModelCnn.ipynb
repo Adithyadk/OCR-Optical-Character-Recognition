{
 "cells": [
  {
   "cell_type": "code",
   "execution_count": 10,
   "metadata": {},
   "outputs": [],
   "source": [
    "import tensorflow as tf\n",
    "from  tensorflow import keras "
   ]
  },
  {
   "cell_type": "code",
   "execution_count": 11,
   "metadata": {},
   "outputs": [
    {
     "name": "stdout",
     "output_type": "stream",
     "text": [
      "Found 13104 files belonging to 26 classes.\n"
     ]
    }
   ],
   "source": [
    "train = keras.utils.image_dataset_from_directory(\n",
    "    directory = 'Train/',\n",
    "    label_mode = 'int',\n",
    "    labels = 'inferred' , \n",
    "    image_size = (64,64),\n",
    "    batch_size = 32 \n",
    ")"
   ]
  },
  {
   "cell_type": "code",
   "execution_count": 12,
   "metadata": {},
   "outputs": [
    {
     "name": "stdout",
     "output_type": "stream",
     "text": [
      "Found 2808 files belonging to 26 classes.\n"
     ]
    }
   ],
   "source": [
    "validation = keras.utils.image_dataset_from_directory(\n",
    "    directory = 'Test/',\n",
    "    label_mode = 'int',\n",
    "    labels = 'inferred' , \n",
    "    image_size = (64,64),\n",
    "    batch_size = 32 \n",
    ")"
   ]
  },
  {
   "cell_type": "code",
   "execution_count": 13,
   "metadata": {},
   "outputs": [],
   "source": [
    "from keras import Sequential\n",
    "from keras.layers import Conv2D , BatchNormalization , MaxPool2D , Dense , Dropout , Flatten "
   ]
  },
  {
   "cell_type": "code",
   "execution_count": 14,
   "metadata": {},
   "outputs": [],
   "source": [
    "model = Sequential()\n",
    "\n",
    "model.add(Conv2D(filters = 32 , kernel_size = (3,3) , strides = (2,2) , padding = 'same' , input_shape = (64,64,3) ,activation = 'relu'))\n",
    "model.add(MaxPool2D(pool_size = (2,2) , strides = (2,2) , padding = 'same'))\n",
    "model.add(BatchNormalization())\n",
    "\n",
    "model.add(Conv2D(filters = 64 , kernel_size = (3,3) , strides = (2,2) , padding = 'same'  ,activation = 'relu'))\n",
    "model.add(MaxPool2D(pool_size = (2,2) , strides = (2,2) , padding = 'same'))\n",
    "model.add(BatchNormalization())\n",
    "\n",
    "\n",
    "\n",
    "model.add(Flatten())\n",
    "\n",
    "model.add(Dense(64 , activation = 'relu' ))\n",
    "model.add(Dense(32 , activation = 'relu' ))\n",
    "\n",
    "model.add(Dropout(0.4))\n",
    "model.add(Dense(26 , activation = 'softmax' ))\n"
   ]
  },
  {
   "cell_type": "code",
   "execution_count": 15,
   "metadata": {},
   "outputs": [
    {
     "name": "stdout",
     "output_type": "stream",
     "text": [
      "Model: \"sequential_1\"\n",
      "_________________________________________________________________\n",
      " Layer (type)                Output Shape              Param #   \n",
      "=================================================================\n",
      " conv2d_2 (Conv2D)           (None, 32, 32, 32)        896       \n",
      "                                                                 \n",
      " max_pooling2d_2 (MaxPooling  (None, 16, 16, 32)       0         \n",
      " 2D)                                                             \n",
      "                                                                 \n",
      " batch_normalization_2 (Batc  (None, 16, 16, 32)       128       \n",
      " hNormalization)                                                 \n",
      "                                                                 \n",
      " conv2d_3 (Conv2D)           (None, 8, 8, 64)          18496     \n",
      "                                                                 \n",
      " max_pooling2d_3 (MaxPooling  (None, 4, 4, 64)         0         \n",
      " 2D)                                                             \n",
      "                                                                 \n",
      " batch_normalization_3 (Batc  (None, 4, 4, 64)         256       \n",
      " hNormalization)                                                 \n",
      "                                                                 \n",
      " flatten_1 (Flatten)         (None, 1024)              0         \n",
      "                                                                 \n",
      " dense_3 (Dense)             (None, 64)                65600     \n",
      "                                                                 \n",
      " dense_4 (Dense)             (None, 32)                2080      \n",
      "                                                                 \n",
      " dropout_1 (Dropout)         (None, 32)                0         \n",
      "                                                                 \n",
      " dense_5 (Dense)             (None, 26)                858       \n",
      "                                                                 \n",
      "=================================================================\n",
      "Total params: 88,314\n",
      "Trainable params: 88,122\n",
      "Non-trainable params: 192\n",
      "_________________________________________________________________\n"
     ]
    }
   ],
   "source": [
    "model.summary()\n"
   ]
  },
  {
   "cell_type": "code",
   "execution_count": 16,
   "metadata": {},
   "outputs": [],
   "source": [
    "model.compile(optimizer = 'adam' , loss = tf.losses.SparseCategoricalCrossentropy() , metrics = ['accuracy'])"
   ]
  },
  {
   "cell_type": "code",
   "execution_count": 17,
   "metadata": {},
   "outputs": [
    {
     "name": "stdout",
     "output_type": "stream",
     "text": [
      "Epoch 1/20\n"
     ]
    },
    {
     "name": "stdout",
     "output_type": "stream",
     "text": [
      "410/410 [==============================] - 12s 25ms/step - loss: 2.0291 - accuracy: 0.4180 - val_loss: 1.1792 - val_accuracy: 0.6863\n",
      "Epoch 2/20\n",
      "410/410 [==============================] - 9s 22ms/step - loss: 1.2234 - accuracy: 0.6502 - val_loss: 0.9107 - val_accuracy: 0.7610\n",
      "Epoch 3/20\n",
      "410/410 [==============================] - 9s 21ms/step - loss: 1.0237 - accuracy: 0.7101 - val_loss: 0.8193 - val_accuracy: 0.7799\n",
      "Epoch 4/20\n",
      "410/410 [==============================] - 9s 22ms/step - loss: 0.9069 - accuracy: 0.7357 - val_loss: 0.8235 - val_accuracy: 0.7863\n",
      "Epoch 5/20\n",
      "410/410 [==============================] - 8s 20ms/step - loss: 0.8241 - accuracy: 0.7599 - val_loss: 0.7655 - val_accuracy: 0.8009\n",
      "Epoch 6/20\n",
      "410/410 [==============================] - 8s 21ms/step - loss: 0.7807 - accuracy: 0.7682 - val_loss: 0.7857 - val_accuracy: 0.7991\n",
      "Epoch 7/20\n",
      "410/410 [==============================] - 9s 22ms/step - loss: 0.7323 - accuracy: 0.7833 - val_loss: 0.7591 - val_accuracy: 0.8045\n",
      "Epoch 8/20\n",
      "410/410 [==============================] - 9s 21ms/step - loss: 0.6906 - accuracy: 0.7923 - val_loss: 0.7563 - val_accuracy: 0.8063\n",
      "Epoch 9/20\n",
      "410/410 [==============================] - 9s 21ms/step - loss: 0.6420 - accuracy: 0.8078 - val_loss: 0.8196 - val_accuracy: 0.7931\n",
      "Epoch 10/20\n",
      "410/410 [==============================] - 9s 21ms/step - loss: 0.6191 - accuracy: 0.8120 - val_loss: 0.7892 - val_accuracy: 0.8180\n",
      "Epoch 11/20\n",
      "410/410 [==============================] - 9s 21ms/step - loss: 0.5845 - accuracy: 0.8222 - val_loss: 0.7905 - val_accuracy: 0.8077\n",
      "Epoch 12/20\n",
      "410/410 [==============================] - 9s 21ms/step - loss: 0.5654 - accuracy: 0.8241 - val_loss: 0.8190 - val_accuracy: 0.8137\n",
      "Epoch 13/20\n",
      "410/410 [==============================] - 10s 24ms/step - loss: 0.5310 - accuracy: 0.8365 - val_loss: 0.8510 - val_accuracy: 0.8102\n",
      "Epoch 14/20\n",
      "410/410 [==============================] - 9s 23ms/step - loss: 0.5299 - accuracy: 0.8346 - val_loss: 0.8349 - val_accuracy: 0.8162\n",
      "Epoch 15/20\n",
      "410/410 [==============================] - 9s 21ms/step - loss: 0.5042 - accuracy: 0.8432 - val_loss: 0.8896 - val_accuracy: 0.8152\n",
      "Epoch 16/20\n",
      "410/410 [==============================] - 8s 20ms/step - loss: 0.4906 - accuracy: 0.8436 - val_loss: 0.9031 - val_accuracy: 0.8080\n",
      "Epoch 17/20\n",
      "410/410 [==============================] - 9s 21ms/step - loss: 0.4664 - accuracy: 0.8520 - val_loss: 0.8861 - val_accuracy: 0.8141\n",
      "Epoch 18/20\n",
      "410/410 [==============================] - 9s 21ms/step - loss: 0.4576 - accuracy: 0.8565 - val_loss: 0.9673 - val_accuracy: 0.8148\n",
      "Epoch 19/20\n",
      "410/410 [==============================] - 8s 20ms/step - loss: 0.4435 - accuracy: 0.8581 - val_loss: 1.0022 - val_accuracy: 0.8088\n",
      "Epoch 20/20\n",
      "410/410 [==============================] - 8s 20ms/step - loss: 0.4291 - accuracy: 0.8646 - val_loss: 0.9657 - val_accuracy: 0.8180\n"
     ]
    },
    {
     "data": {
      "text/plain": [
       "<keras.callbacks.History at 0x2ae0043efd0>"
      ]
     },
     "execution_count": 17,
     "metadata": {},
     "output_type": "execute_result"
    }
   ],
   "source": [
    "model.fit(train , validation_data= validation  , epochs= 30)"
   ]
  },
  {
   "cell_type": "code",
   "execution_count": 18,
   "metadata": {},
   "outputs": [
    {
     "name": "stderr",
     "output_type": "stream",
     "text": [
      "WARNING:absl:Found untraced functions such as _jit_compiled_convolution_op, _jit_compiled_convolution_op, _update_step_xla while saving (showing 3 of 3). These functions will not be directly callable after loading.\n"
     ]
    },
    {
     "name": "stdout",
     "output_type": "stream",
     "text": [
      "INFO:tensorflow:Assets written to: New_Trained_Model\\assets\n"
     ]
    },
    {
     "name": "stderr",
     "output_type": "stream",
     "text": [
      "INFO:tensorflow:Assets written to: New_Trained_Model\\assets\n"
     ]
    }
   ],
   "source": [
    "model.save(\"New_Trained_Model\")"
   ]
  },
  {
   "cell_type": "code",
   "execution_count": null,
   "metadata": {},
   "outputs": [],
   "source": []
  }
 ],
 "metadata": {
  "kernelspec": {
   "display_name": "Python 3",
   "language": "python",
   "name": "python3"
  },
  "language_info": {
   "codemirror_mode": {
    "name": "ipython",
    "version": 3
   },
   "file_extension": ".py",
   "mimetype": "text/x-python",
   "name": "python",
   "nbconvert_exporter": "python",
   "pygments_lexer": "ipython3",
   "version": "3.11.2"
  }
 },
 "nbformat": 4,
 "nbformat_minor": 2
}
